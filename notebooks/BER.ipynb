{
 "cells": [
  {
   "cell_type": "code",
   "execution_count": 28,
   "id": "d4b951c6-e529-4d04-b4c8-884cbf46e779",
   "metadata": {},
   "outputs": [],
   "source": [
    "import math\n",
    "import matplotlib.pyplot as plt\n",
    "import numpy as np\n",
    "import librosa\n",
    "import librosa.display\n",
    "import IPython.display as ipd"
   ]
  },
  {
   "cell_type": "code",
   "execution_count": 29,
   "id": "f26263a8-55b6-4631-9393-8471e4a94856",
   "metadata": {},
   "outputs": [],
   "source": [
    "prefix = \"../songs/\"\n",
    "cfm_file = prefix + \"cfm.wav\"\n",
    "fancy_file  = prefix + \"fancy.wav\"\n",
    "pw_file = prefix + \"pw.wav\"\n",
    "\n",
    "cfm, sr = librosa.load(cfm_file, duration=50, offset=5)\n",
    "fancy, _ = librosa.load(fancy_file, duration=50, offset=5)\n",
    "pw, _ = librosa.load(pw_file, duration=50, offset=5)"
   ]
  },
  {
   "cell_type": "code",
   "execution_count": 30,
   "id": "49e1a32b-00ee-4d59-8b5d-8935e3838e7b",
   "metadata": {},
   "outputs": [],
   "source": [
    "FRAME_SIZE = 2048\n",
    "HOP_SIZE = 512\n",
    "S_cfm = librosa.stft(cfm, n_fft=FRAME_SIZE, hop_length=HOP_SIZE)\n",
    "S_fancy = librosa.stft(fancy, n_fft=FRAME_SIZE, hop_length=HOP_SIZE)\n",
    "S_pw = librosa.stft(pw, n_fft=FRAME_SIZE, hop_length=HOP_SIZE)\n"
   ]
  },
  {
   "cell_type": "code",
   "execution_count": 31,
   "id": "df3f9bfa-9a1f-4119-8c6b-e8e1ec72a5b4",
   "metadata": {},
   "outputs": [],
   "source": [
    "# Calculate Band Energy Ratio\n",
    "\n",
    "def calculate_split_frequency_bin(split_frequency, sample_rate, num_frequency_bins):\n",
    "    \"\"\"Infer the frequency bin associated to a given split frequency.\"\"\"\n",
    "    \n",
    "    frequency_range = sample_rate / 2\n",
    "    frequency_delta_per_bin = frequency_range / num_frequency_bins\n",
    "    split_frequency_bin = math.floor(split_frequency / frequency_delta_per_bin)\n",
    "    return int(split_frequency_bin)"
   ]
  },
  {
   "cell_type": "code",
   "execution_count": 32,
   "id": "23546e56-a7dc-4938-b65d-3a472cc22269",
   "metadata": {},
   "outputs": [
    {
     "data": {
      "text/plain": [
       "185"
      ]
     },
     "execution_count": 32,
     "metadata": {},
     "output_type": "execute_result"
    }
   ],
   "source": [
    "split_frequency_bin = calculate_split_frequency_bin(2000, 22050, 1025)\n",
    "split_frequency_bin"
   ]
  },
  {
   "cell_type": "code",
   "execution_count": 33,
   "id": "b14d0afb-ec7e-4f2b-8b6c-23962c960f0e",
   "metadata": {},
   "outputs": [],
   "source": [
    "def band_energy_ratio(spectrogram, split_frequency, sample_rate):\n",
    "    \"\"\"Calculate band energy ratio with a given split frequency.\"\"\"\n",
    "    \n",
    "    split_frequency_bin = calculate_split_frequency_bin(split_frequency, sample_rate, len(spectrogram[0]))\n",
    "    band_energy_ratio = []\n",
    "    \n",
    "    # calculate power spectrogram\n",
    "    power_spectrogram = np.abs(spectrogram) ** 2\n",
    "    power_spectrogram = power_spectrogram.T\n",
    "    \n",
    "    # calculate BER value for each frame\n",
    "    for frame in power_spectrogram:\n",
    "        sum_power_low_frequencies = frame[:split_frequency_bin].sum()\n",
    "        sum_power_high_frequencies = frame[split_frequency_bin:].sum()\n",
    "        band_energy_ratio_current_frame = sum_power_low_frequencies / sum_power_high_frequencies\n",
    "        band_energy_ratio.append(band_energy_ratio_current_frame)\n",
    "    \n",
    "    return np.array(band_energy_ratio)"
   ]
  },
  {
   "cell_type": "code",
   "execution_count": 34,
   "id": "e1d59ffd-41ef-4a43-bdcb-21be65744494",
   "metadata": {},
   "outputs": [],
   "source": [
    "ber_cfm = band_energy_ratio(S_cfm, 2000, sr)\n",
    "ber_fancy = band_energy_ratio(S_fancy, 2000, sr)\n",
    "ber_pw = band_energy_ratio(S_pw, 2000, sr)"
   ]
  },
  {
   "cell_type": "code",
   "execution_count": 35,
   "id": "a92441a6-6ed8-4a11-8a1a-d01ece183a38",
   "metadata": {},
   "outputs": [
    {
     "data": {
      "text/plain": [
       "2154"
      ]
     },
     "execution_count": 35,
     "metadata": {},
     "output_type": "execute_result"
    }
   ],
   "source": [
    "len(ber_cfm)"
   ]
  },
  {
   "cell_type": "code",
   "execution_count": 36,
   "id": "b1dac44d-deb9-44a4-bf38-c44e321b292e",
   "metadata": {},
   "outputs": [],
   "source": [
    "# Visualize Band Energy Ratio\n",
    "\n",
    "frames = range(len(ber_cfm))\n",
    "t = librosa.frames_to_time(frames, hop_length=HOP_SIZE)"
   ]
  },
  {
   "cell_type": "code",
   "execution_count": 37,
   "id": "730affe1-2040-4f57-80b2-411f1bcb2c37",
   "metadata": {},
   "outputs": [
    {
     "data": {
      "image/png": "[encoded data removed]",
      "text/plain": [
       "<Figure size 1800x720 with 1 Axes>"
      ]
     },
     "metadata": {
      "needs_background": "light"
     },
     "output_type": "display_data"
    }
   ],
   "source": [
    "plt.figure(figsize=(25, 10))\n",
    "\n",
    "plt.plot(t, ber_cfm, color=\"b\")\n",
    "plt.plot(t, ber_fancy, color=\"r\")\n",
    "plt.plot(t, ber_pw, color=\"y\")\n",
    "#plt.ylim((0, 20000))\n",
    "plt.show()"
   ]
  },
  {
   "cell_type": "code",
   "execution_count": null,
   "id": "d06129c4-89b4-42fb-b5d9-db680c898e69",
   "metadata": {},
   "outputs": [],
   "source": []
  },
  {
   "cell_type": "code",
   "execution_count": null,
   "id": "91ca4a84-c39b-4130-876b-eaf6541fae59",
   "metadata": {},
   "outputs": [],
   "source": []
  }
 ],
 "metadata": {
  "kernelspec": {
   "display_name": "Python 3 (ipykernel)",
   "language": "python",
   "name": "python3"
  },
  "language_info": {
   "codemirror_mode": {
    "name": "ipython",
    "version": 3
   },
   "file_extension": ".py",
   "mimetype": "text/x-python",
   "name": "python",
   "nbconvert_exporter": "python",
   "pygments_lexer": "ipython3",
   "version": "3.9.5"
  }
 },
 "nbformat": 4,
 "nbformat_minor": 5
}
